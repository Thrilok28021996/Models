{
  "nbformat": 4,
  "nbformat_minor": 0,
  "metadata": {
    "colab": {
      "name": "LeNet-5 with keras .ipynb",
      "provenance": []
    },
    "kernelspec": {
      "name": "python3",
      "display_name": "Python 3"
    },
    "language_info": {
      "name": "python"
    }
  },
  "cells": [
    {
      "cell_type": "markdown",
      "metadata": {
        "id": "iZW4QdA5alhb"
      },
      "source": [
        "\n",
        "The LeNet-5 architecture consists of two sets of convolutional and average pooling layers, followed by a flattening convolutional layer, then two fully-connected layers and finally a softmax classifier."
      ]
    },
    {
      "cell_type": "code",
      "metadata": {
        "id": "Y2GoAqyxaf6E"
      },
      "source": [
        "from keras.datasets import mnist\n",
        "from keras.utils import np_utils\n",
        "# Load dataset as train and test sets\n",
        "(x_train,y_train),(x_test,y_test) = mnist.load_data()\n",
        "\n",
        "# set numeric type to flot(32) from uint8\n",
        "x_train = x_train.astype(\"float32\")\n",
        "x_test = x_test.astype(\"float32\")\n",
        "\n",
        "# Normalize value to [0,1]\n",
        "x_train /= 255\n",
        "x_test /= 255\n",
        "\n",
        "# transform labels to one-hot encoding\n",
        "y_train = np_utils.to_categorical(y_train,10)\n",
        "y_test = np_utils.to_categorical(y_test,10)\n",
        "\n",
        "# reshape the dataset into 4D array\n",
        "x_train = x_train.reshape(x_train.shape[0],28,28,1)\n",
        "x_test = x_test.reshape(x_test.shape[0],28,28,1)"
      ],
      "execution_count": 2,
      "outputs": []
    },
    {
      "cell_type": "code",
      "metadata": {
        "id": "IpcCvAqyc5w5"
      },
      "source": [
        "from keras.models import Sequential\n",
        "from keras import models,layers\n",
        "import keras\n",
        "\n",
        "model = Sequential()\n",
        "# c1 Convolutional layer\n",
        "model.add(layers.Conv2D(6,kernel_size=(5,5),strides=(1,1),activation='tanh',input_shape=(28,28,1),padding='same'))\n",
        "# s2 pooling layer\n",
        "model.add(layers.AveragePooling2D(pool_size=(2,2),strides=(1,1),padding='valid'))\n",
        "# c3 Convolutional layer\n",
        "model.add(layers.Conv2D(16,kernel_size=(5,5),strides=(1,1),activation='tanh',padding='valid'))\n",
        "# s4 pooling layer\n",
        "model.add(layers.AveragePooling2D(pool_size=(2,2),strides=(2,2),padding='valid'))\n",
        "# c5 fully connected Convolutional layer\n",
        "model.add(layers.Conv2D(120,kernel_size=(5,5),strides=(1,1),activation='tanh',padding='valid'))\n",
        "# fc6 fully connected layer\n",
        "model.add(layers.Flatten())\n",
        "# output layer with softmax axctivation\n",
        "model.add(layers.Dense(84,activation='tanh'))\n",
        "# compile the model\n",
        "model.add(layers.Dense(10,activation='softmax'))\n",
        "\n",
        "model.compile(loss=keras.losses.categorical_crossentropy,optimizer='SGD',metrics=['accuracy'])\n"
      ],
      "execution_count": 3,
      "outputs": []
    },
    {
      "cell_type": "code",
      "metadata": {
        "colab": {
          "base_uri": "https://localhost:8080/"
        },
        "id": "X5ofmdU2fieO",
        "outputId": "9280aacb-ed6f-4274-c0da-28502e140979"
      },
      "source": [
        "hist = model.fit(x=x_train,y=y_train,epochs=10,batch_size=128,validation_data=(x_test,y_test),verbose=1)"
      ],
      "execution_count": 4,
      "outputs": [
        {
          "output_type": "stream",
          "text": [
            "Epoch 1/10\n",
            "469/469 [==============================] - 88s 186ms/step - loss: 0.6976 - accuracy: 0.8257 - val_loss: 0.3385 - val_accuracy: 0.9069\n",
            "Epoch 2/10\n",
            "469/469 [==============================] - 87s 184ms/step - loss: 0.3117 - accuracy: 0.9110 - val_loss: 0.2626 - val_accuracy: 0.9264\n",
            "Epoch 3/10\n",
            "469/469 [==============================] - 87s 185ms/step - loss: 0.2550 - accuracy: 0.9273 - val_loss: 0.2226 - val_accuracy: 0.9359\n",
            "Epoch 4/10\n",
            "469/469 [==============================] - 87s 186ms/step - loss: 0.2205 - accuracy: 0.9366 - val_loss: 0.1977 - val_accuracy: 0.9432\n",
            "Epoch 5/10\n",
            "469/469 [==============================] - 87s 186ms/step - loss: 0.1956 - accuracy: 0.9445 - val_loss: 0.1774 - val_accuracy: 0.9494\n",
            "Epoch 6/10\n",
            "469/469 [==============================] - 87s 186ms/step - loss: 0.1766 - accuracy: 0.9503 - val_loss: 0.1617 - val_accuracy: 0.9531\n",
            "Epoch 7/10\n",
            "469/469 [==============================] - 87s 186ms/step - loss: 0.1611 - accuracy: 0.9549 - val_loss: 0.1492 - val_accuracy: 0.9577\n",
            "Epoch 8/10\n",
            "469/469 [==============================] - 87s 186ms/step - loss: 0.1481 - accuracy: 0.9583 - val_loss: 0.1375 - val_accuracy: 0.9623\n",
            "Epoch 9/10\n",
            "469/469 [==============================] - 87s 186ms/step - loss: 0.1368 - accuracy: 0.9618 - val_loss: 0.1289 - val_accuracy: 0.9630\n",
            "Epoch 10/10\n",
            "469/469 [==============================] - 87s 186ms/step - loss: 0.1271 - accuracy: 0.9650 - val_loss: 0.1199 - val_accuracy: 0.9665\n"
          ],
          "name": "stdout"
        }
      ]
    },
    {
      "cell_type": "code",
      "metadata": {
        "colab": {
          "base_uri": "https://localhost:8080/"
        },
        "id": "D2yd8io9fil5",
        "outputId": "2a0f6798-c982-4366-c051-e6976b260712"
      },
      "source": [
        "test_score = model.evaluate(x_test,y_test)\n",
        "print(\"Test loss{:.4f},accuracy {:.2f} %\".format(test_score[0],test_score[1]*100))"
      ],
      "execution_count": 5,
      "outputs": [
        {
          "output_type": "stream",
          "text": [
            "313/313 [==============================] - 7s 21ms/step - loss: 0.1199 - accuracy: 0.9665\n",
            "Test loss0.1199,accuracy 96.65 %\n"
          ],
          "name": "stdout"
        }
      ]
    },
    {
      "cell_type": "code",
      "metadata": {
        "colab": {
          "base_uri": "https://localhost:8080/",
          "height": 312
        },
        "id": "WdYZyohNgJ2_",
        "outputId": "b4064840-f201-4dcb-aab8-555e159ae5cf"
      },
      "source": [
        "import matplotlib.pyplot as plt\n",
        "\n",
        "f,ax = plt.subplots()\n",
        "ax.plot([None] + hist.history['accuracy'],'o-')\n",
        "ax.plot([None] + hist.history['val_accuracy'],'x-')\n",
        "# plot legend and use the best location automatically: loc=0\n",
        "ax.legend(['Train acc','validation acc'],loc=0)\n",
        "ax.set_title('Training/validation acc per epoch')\n",
        "ax.set_xlabel('Epoch')\n",
        "ax.set_ylabel('acc')"
      ],
      "execution_count": 8,
      "outputs": [
        {
          "output_type": "execute_result",
          "data": {
            "text/plain": [
              "Text(0, 0.5, 'acc')"
            ]
          },
          "metadata": {},
          "execution_count": 8
        },
        {
          "output_type": "display_data",
          "data": {
            "image/png": "[encoded data removed]",
            "text/plain": [
              "<Figure size 432x288 with 1 Axes>"
            ]
          },
          "metadata": {
            "needs_background": "light"
          }
        }
      ]
    },
    {
      "cell_type": "code",
      "metadata": {
        "colab": {
          "base_uri": "https://localhost:8080/",
          "height": 312
        },
        "id": "o9cgghVXg6n8",
        "outputId": "22261177-f858-4540-f246-3c7cc18d1ac6"
      },
      "source": [
        "import matplotlib.pyplot as plt\n",
        "\n",
        "f,ax = plt.subplots()\n",
        "ax.plot([None] + hist.history['loss'],'o-')\n",
        "ax.plot([None] + hist.history['val_loss'],'x-')\n",
        "# plot legend and use the best location automatically: loc=0\n",
        "ax.legend(['Train loss','validation loss'],loc=0)\n",
        "ax.set_title('Training/validation loss per epoch')\n",
        "ax.set_xlabel('Epoch')\n",
        "ax.set_ylabel('loss')"
      ],
      "execution_count": 9,
      "outputs": [
        {
          "output_type": "execute_result",
          "data": {
            "text/plain": [
              "Text(0, 0.5, 'loss')"
            ]
          },
          "metadata": {},
          "execution_count": 9
        },
        {
          "output_type": "display_data",
          "data": {
            "image/png": "[encoded data removed]",
            "text/plain": [
              "<Figure size 432x288 with 1 Axes>"
            ]
          },
          "metadata": {
            "needs_background": "light"
          }
        }
      ]
    },
    {
      "cell_type": "code",
      "metadata": {
        "id": "U6FBdGk8lkvG"
      },
      "source": [
        ""
      ],
      "execution_count": null,
      "outputs": []
    }
  ]
}